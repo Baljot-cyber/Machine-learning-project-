{
 "cells": [
  {
   "cell_type": "code",
   "execution_count": 1,
   "metadata": {},
   "outputs": [],
   "source": [
    "# import modules\n",
    "import pandas as pd\n",
    "import numpy as np\n",
    "import matplotlib as plt\n",
    "import seaborn as sns"
   ]
  },
  {
   "cell_type": "code",
   "execution_count": 2,
   "metadata": {},
   "outputs": [
    {
     "name": "stdout",
     "output_type": "stream",
     "text": [
      "<class 'pandas.core.frame.DataFrame'>\n",
      "RangeIndex: 20468 entries, 0 to 20467\n",
      "Columns: 114 entries, Unnamed: 0 to targets\n",
      "dtypes: float64(1), int64(113)\n",
      "memory usage: 17.8 MB\n"
     ]
    }
   ],
   "source": [
    "# checking dataset\n",
    "df = pd.read_csv(\"Fraud detection bank.csv\")\n",
    "df.info()"
   ]
  },
  {
   "cell_type": "code",
   "execution_count": 3,
   "metadata": {},
   "outputs": [
    {
     "data": {
      "text/plain": [
       "(20468, 114)"
      ]
     },
     "execution_count": 3,
     "metadata": {},
     "output_type": "execute_result"
    }
   ],
   "source": [
    "# check the number of enteries and features of dataset\n",
    "df.shape"
   ]
  },
  {
   "cell_type": "code",
   "execution_count": 4,
   "metadata": {},
   "outputs": [
    {
     "data": {
      "text/plain": [
       "0"
      ]
     },
     "execution_count": 4,
     "metadata": {},
     "output_type": "execute_result"
    }
   ],
   "source": [
    "# there are 0 duplicates in dataset\n",
    "df.duplicated().sum()"
   ]
  },
  {
   "cell_type": "code",
   "execution_count": 5,
   "metadata": {},
   "outputs": [],
   "source": [
    "# pre-processing data\n",
    "# set X and y values\n",
    "X = df.drop([\"targets\"], axis = 1).values\n",
    "y = df[\"targets\"].values\n"
   ]
  },
  {
   "cell_type": "code",
   "execution_count": 6,
   "metadata": {},
   "outputs": [],
   "source": [
    "# training and testing X and y varaibles\n",
    "from sklearn.model_selection import train_test_split\n",
    "\n",
    "X_train, X_test, y_train, y_test = train_test_split(X, y, random_state = 0, test_size = 0.25)\n"
   ]
  },
  {
   "cell_type": "code",
   "execution_count": 7,
   "metadata": {},
   "outputs": [],
   "source": [
    "#Scaling data\n",
    "from sklearn.preprocessing import StandardScaler\n",
    "\n",
    "scaler = StandardScaler()\n",
    "scaler.fit(X_train)\n",
    "\n",
    "X_train = scaler.transform(X_train)\n",
    "X_test = scaler.transform(X_test)"
   ]
  },
  {
   "cell_type": "code",
   "execution_count": 8,
   "metadata": {},
   "outputs": [
    {
     "name": "stdout",
     "output_type": "stream",
     "text": [
      "0.9964823138557749\n"
     ]
    }
   ],
   "source": [
    "# Applying Logistic Regression - Classification algo\n",
    "from sklearn.linear_model import LogisticRegression\n",
    "\n",
    "model = LogisticRegression(solver = \"liblinear\")\n",
    "model.fit(X_train, y_train)\n",
    "\n",
    "print(model.score(X_test, y_test))"
   ]
  },
  {
   "cell_type": "code",
   "execution_count": 9,
   "metadata": {},
   "outputs": [],
   "source": [
    "# Applying K nearest neighbor - Classification algo\n",
    "\n",
    "# Analyze results through validation curve\n",
    "from sklearn.model_selection import validation_curve\n",
    "from sklearn.neighbors import KNeighborsClassifier\n",
    "import numpy as np"
   ]
  },
  {
   "cell_type": "code",
   "execution_count": 10,
   "metadata": {},
   "outputs": [],
   "source": [
    "param_range = np.array([50, 40, 35, 30, 25, 20, 15, 10, 9, 8, 7, 6, 5, 4, 3, 2, 1])\n",
    "\n",
    "train_scores, test_scores = validation_curve(KNeighborsClassifier(), X, y, param_name = \"n_neighbors\", param_range = param_range)"
   ]
  },
  {
   "cell_type": "code",
   "execution_count": 11,
   "metadata": {},
   "outputs": [
    {
     "name": "stdout",
     "output_type": "stream",
     "text": [
      "[[0.98949554 0.98265543 0.98198363 0.98375573 0.98680916]\n",
      " [0.99108342 0.98393795 0.98296079 0.98503817 0.98815267]\n",
      " [0.99218273 0.98552583 0.98460975 0.98601527 0.98894656]\n",
      " [0.99267131 0.98595334 0.9851594  0.98656489 0.98949618]\n",
      " [0.99346525 0.98741908 0.98668621 0.98766412 0.99083969]\n",
      " [0.99377061 0.98766337 0.98748015 0.98821374 0.99151145]\n",
      " [0.99529742 0.98986198 0.9898009  0.9900458  0.99322137]\n",
      " [0.99657994 0.98998412 0.99016734 0.99071756 0.9941374 ]\n",
      " [0.99731281 0.99132771 0.99187737 0.99212214 0.99487023]\n",
      " [0.99706852 0.99035056 0.99071699 0.99132824 0.99444275]\n",
      " [0.9975571  0.99279345 0.99236595 0.99285496 0.9959084 ]\n",
      " [0.99737389 0.99212166 0.99181629 0.99206107 0.99554198]\n",
      " [0.99798461 0.99450348 0.99407597 0.99407634 0.99694656]\n",
      " [0.99774032 0.99322096 0.99297667 0.9929771  0.99670229]\n",
      " [0.9989007  0.99603029 0.99596922 0.99584733 0.99816794]\n",
      " [0.99871748 0.99493099 0.99486992 0.9949313  0.99767939]\n",
      " [1.         1.         1.         1.         1.        ]]\n"
     ]
    }
   ],
   "source": [
    "print(train_scores)"
   ]
  },
  {
   "cell_type": "code",
   "execution_count": 12,
   "metadata": {},
   "outputs": [
    {
     "name": "stdout",
     "output_type": "stream",
     "text": [
      "[0.9849399  0.9862346  0.98745603 0.98796902 0.98921487 0.98972786\n",
      " 0.9916455  0.99231727 0.99350205 0.99278141 0.99429597 0.99378298\n",
      " 0.99551739 0.99472347 0.99698309 0.99622581 1.        ]\n"
     ]
    }
   ],
   "source": [
    "print(np.mean(train_scores, axis = 1))"
   ]
  },
  {
   "cell_type": "code",
   "execution_count": 13,
   "metadata": {},
   "outputs": [
    {
     "name": "stdout",
     "output_type": "stream",
     "text": [
      "[[0.73961895 0.99047386 0.98632145 0.9787442  0.85414122]\n",
      " [0.73717636 0.99193942 0.98778701 0.97923284 0.85414122]\n",
      " [0.73400098 0.99242794 0.98851979 0.98094307 0.85438554]\n",
      " [0.73009282 0.99242794 0.9890083  0.98167603 0.85365258]\n",
      " [0.72300928 0.99340498 0.98998534 0.98265331 0.85511849]\n",
      " [0.7198339  0.99364924 0.99096238 0.98265331 0.85438554]\n",
      " [0.70786517 0.99462628 0.99291646 0.98558515 0.85536281]\n",
      " [0.70639961 0.99462628 0.99340498 0.9863181  0.85462986]\n",
      " [0.69418661 0.99438202 0.99364924 0.9887613  0.85682873]\n",
      " [0.70102589 0.99462628 0.99364924 0.98705106 0.85462986]\n",
      " [0.68661456 0.9951148  0.99487054 0.9887613  0.85609577]\n",
      " [0.69345383 0.99487054 0.99364924 0.98778402 0.85487418]\n",
      " [0.68099658 0.99658036 0.9951148  0.99096018 0.85756169]\n",
      " [0.68954568 0.99560332 0.99462628 0.98973858 0.85511849]\n",
      " [0.672936   0.99780166 0.9963361  0.99218177 0.86000489]\n",
      " [0.68466048 0.9975574  0.99584758 0.9899829  0.85658441]\n",
      " [0.66609673 0.99780166 0.99682462 0.99389201 0.8626924 ]]\n"
     ]
    }
   ],
   "source": [
    "print(test_scores)"
   ]
  },
  {
   "cell_type": "code",
   "execution_count": 14,
   "metadata": {},
   "outputs": [
    {
     "name": "stdout",
     "output_type": "stream",
     "text": [
      "[0.90985994 0.91005537 0.91005546 0.90937154 0.90883428 0.90829688\n",
      " 0.90727117 0.90707577 0.90556158 0.90619647 0.9042914  0.90492636\n",
      " 0.90424272 0.90492647 0.90385209 0.90492655 0.90346148]\n"
     ]
    }
   ],
   "source": [
    "print(np.mean(test_scores, axis = 1))"
   ]
  },
  {
   "cell_type": "code",
   "execution_count": 15,
   "metadata": {},
   "outputs": [
    {
     "data": {
      "image/png": "[encoded data removed]",
      "text/plain": [
       "<Figure size 792x648 with 1 Axes>"
      ]
     },
     "metadata": {
      "needs_background": "light"
     },
     "output_type": "display_data"
    }
   ],
   "source": [
    "#Visualizing Validation Curve (Bias-Variance Dilemma) dependant from number of neighbors (k argument\n",
    "%matplotlib inline\n",
    "import matplotlib.pyplot as plt\n",
    "\n",
    "plt.figure(figsize = (11, 9))\n",
    "\n",
    "plt.plot(param_range, np.mean(train_scores, axis = 1))\n",
    "plt.plot(param_range, np.mean(test_scores, axis = 1))\n",
    "\n",
    "# Reversing the X-axis (now going from 40 to 1 backwards)\n",
    "plt.xlim(np.max(param_range), 0)\n",
    "plt.ylim(0.9, 1)\n",
    "\n",
    "plt.title(\"How does k influence the accuracy?\", fontsize = 20)\n",
    "plt.xlabel(\"number of neighbors (k)\", fontsize = 15)\n",
    "plt.ylabel(\"model accuracy\", fontsize = 15)\n",
    "\n",
    "# Adding a legend\n",
    "plt.legend([\"train\", \"test\"], loc = \"upper left\", fontsize = 12)\n",
    "\n",
    "plt.show()"
   ]
  },
  {
   "cell_type": "code",
   "execution_count": 16,
   "metadata": {},
   "outputs": [],
   "source": [
    "# Applying Decision Tree - Classification algo\n",
    "from sklearn.model_selection import validation_curve\n",
    "from sklearn.tree import DecisionTreeClassifier\n",
    "import numpy as np"
   ]
  },
  {
   "cell_type": "code",
   "execution_count": 17,
   "metadata": {},
   "outputs": [],
   "source": [
    "param_range = np.arange(1, 100)\n",
    "\n",
    "train_scores, test_scores = validation_curve(DecisionTreeClassifier(), X, y, param_name = \"max_depth\", param_range = param_range)"
   ]
  },
  {
   "cell_type": "code",
   "execution_count": 18,
   "metadata": {},
   "outputs": [
    {
     "name": "stdout",
     "output_type": "stream",
     "text": [
      "[[1. 1. 1. 1. 1.]\n",
      " [1. 1. 1. 1. 1.]\n",
      " [1. 1. 1. 1. 1.]\n",
      " [1. 1. 1. 1. 1.]\n",
      " [1. 1. 1. 1. 1.]\n",
      " [1. 1. 1. 1. 1.]\n",
      " [1. 1. 1. 1. 1.]\n",
      " [1. 1. 1. 1. 1.]\n",
      " [1. 1. 1. 1. 1.]\n",
      " [1. 1. 1. 1. 1.]\n",
      " [1. 1. 1. 1. 1.]\n",
      " [1. 1. 1. 1. 1.]\n",
      " [1. 1. 1. 1. 1.]\n",
      " [1. 1. 1. 1. 1.]\n",
      " [1. 1. 1. 1. 1.]\n",
      " [1. 1. 1. 1. 1.]\n",
      " [1. 1. 1. 1. 1.]\n",
      " [1. 1. 1. 1. 1.]\n",
      " [1. 1. 1. 1. 1.]\n",
      " [1. 1. 1. 1. 1.]\n",
      " [1. 1. 1. 1. 1.]\n",
      " [1. 1. 1. 1. 1.]\n",
      " [1. 1. 1. 1. 1.]\n",
      " [1. 1. 1. 1. 1.]\n",
      " [1. 1. 1. 1. 1.]\n",
      " [1. 1. 1. 1. 1.]\n",
      " [1. 1. 1. 1. 1.]\n",
      " [1. 1. 1. 1. 1.]\n",
      " [1. 1. 1. 1. 1.]\n",
      " [1. 1. 1. 1. 1.]\n",
      " [1. 1. 1. 1. 1.]\n",
      " [1. 1. 1. 1. 1.]\n",
      " [1. 1. 1. 1. 1.]\n",
      " [1. 1. 1. 1. 1.]\n",
      " [1. 1. 1. 1. 1.]\n",
      " [1. 1. 1. 1. 1.]\n",
      " [1. 1. 1. 1. 1.]\n",
      " [1. 1. 1. 1. 1.]\n",
      " [1. 1. 1. 1. 1.]\n",
      " [1. 1. 1. 1. 1.]\n",
      " [1. 1. 1. 1. 1.]\n",
      " [1. 1. 1. 1. 1.]\n",
      " [1. 1. 1. 1. 1.]\n",
      " [1. 1. 1. 1. 1.]\n",
      " [1. 1. 1. 1. 1.]\n",
      " [1. 1. 1. 1. 1.]\n",
      " [1. 1. 1. 1. 1.]\n",
      " [1. 1. 1. 1. 1.]\n",
      " [1. 1. 1. 1. 1.]\n",
      " [1. 1. 1. 1. 1.]\n",
      " [1. 1. 1. 1. 1.]\n",
      " [1. 1. 1. 1. 1.]\n",
      " [1. 1. 1. 1. 1.]\n",
      " [1. 1. 1. 1. 1.]\n",
      " [1. 1. 1. 1. 1.]\n",
      " [1. 1. 1. 1. 1.]\n",
      " [1. 1. 1. 1. 1.]\n",
      " [1. 1. 1. 1. 1.]\n",
      " [1. 1. 1. 1. 1.]\n",
      " [1. 1. 1. 1. 1.]\n",
      " [1. 1. 1. 1. 1.]\n",
      " [1. 1. 1. 1. 1.]\n",
      " [1. 1. 1. 1. 1.]\n",
      " [1. 1. 1. 1. 1.]\n",
      " [1. 1. 1. 1. 1.]\n",
      " [1. 1. 1. 1. 1.]\n",
      " [1. 1. 1. 1. 1.]\n",
      " [1. 1. 1. 1. 1.]\n",
      " [1. 1. 1. 1. 1.]\n",
      " [1. 1. 1. 1. 1.]\n",
      " [1. 1. 1. 1. 1.]\n",
      " [1. 1. 1. 1. 1.]\n",
      " [1. 1. 1. 1. 1.]\n",
      " [1. 1. 1. 1. 1.]\n",
      " [1. 1. 1. 1. 1.]\n",
      " [1. 1. 1. 1. 1.]\n",
      " [1. 1. 1. 1. 1.]\n",
      " [1. 1. 1. 1. 1.]\n",
      " [1. 1. 1. 1. 1.]\n",
      " [1. 1. 1. 1. 1.]\n",
      " [1. 1. 1. 1. 1.]\n",
      " [1. 1. 1. 1. 1.]\n",
      " [1. 1. 1. 1. 1.]\n",
      " [1. 1. 1. 1. 1.]\n",
      " [1. 1. 1. 1. 1.]\n",
      " [1. 1. 1. 1. 1.]\n",
      " [1. 1. 1. 1. 1.]\n",
      " [1. 1. 1. 1. 1.]\n",
      " [1. 1. 1. 1. 1.]\n",
      " [1. 1. 1. 1. 1.]\n",
      " [1. 1. 1. 1. 1.]\n",
      " [1. 1. 1. 1. 1.]\n",
      " [1. 1. 1. 1. 1.]\n",
      " [1. 1. 1. 1. 1.]\n",
      " [1. 1. 1. 1. 1.]\n",
      " [1. 1. 1. 1. 1.]\n",
      " [1. 1. 1. 1. 1.]\n",
      " [1. 1. 1. 1. 1.]\n",
      " [1. 1. 1. 1. 1.]]\n"
     ]
    }
   ],
   "source": [
    "print(train_scores)"
   ]
  },
  {
   "cell_type": "code",
   "execution_count": 19,
   "metadata": {},
   "outputs": [
    {
     "name": "stdout",
     "output_type": "stream",
     "text": [
      "[1. 1. 1. 1. 1. 1. 1. 1. 1. 1. 1. 1. 1. 1. 1. 1. 1. 1. 1. 1. 1. 1. 1. 1.\n",
      " 1. 1. 1. 1. 1. 1. 1. 1. 1. 1. 1. 1. 1. 1. 1. 1. 1. 1. 1. 1. 1. 1. 1. 1.\n",
      " 1. 1. 1. 1. 1. 1. 1. 1. 1. 1. 1. 1. 1. 1. 1. 1. 1. 1. 1. 1. 1. 1. 1. 1.\n",
      " 1. 1. 1. 1. 1. 1. 1. 1. 1. 1. 1. 1. 1. 1. 1. 1. 1. 1. 1. 1. 1. 1. 1. 1.\n",
      " 1. 1. 1.]\n"
     ]
    }
   ],
   "source": [
    "print(np.mean(train_scores, axis = 1))"
   ]
  },
  {
   "cell_type": "code",
   "execution_count": 20,
   "metadata": {},
   "outputs": [
    {
     "name": "stdout",
     "output_type": "stream",
     "text": [
      "[[0.63287738 1.         1.         1.         0.86733447]\n",
      " [0.63287738 1.         1.         1.         0.86733447]\n",
      " [0.63287738 1.         1.         1.         0.86733447]\n",
      " [0.63287738 1.         1.         1.         0.86733447]\n",
      " [0.63287738 1.         1.         1.         0.86733447]\n",
      " [0.63287738 1.         1.         1.         0.86733447]\n",
      " [0.63287738 1.         1.         1.         0.86733447]\n",
      " [0.63287738 1.         1.         1.         0.86733447]\n",
      " [0.63287738 1.         1.         1.         0.86733447]\n",
      " [0.63287738 1.         1.         1.         0.86733447]\n",
      " [0.63287738 1.         1.         1.         0.86733447]\n",
      " [0.63287738 1.         1.         1.         0.86733447]\n",
      " [0.63287738 1.         1.         1.         0.86733447]\n",
      " [0.63287738 1.         1.         1.         0.86733447]\n",
      " [0.63287738 1.         1.         1.         0.86733447]\n",
      " [0.63287738 1.         1.         1.         0.86733447]\n",
      " [0.63287738 1.         1.         1.         0.86733447]\n",
      " [0.63287738 1.         1.         1.         0.86733447]\n",
      " [0.63287738 1.         1.         1.         0.86733447]\n",
      " [0.63287738 1.         1.         1.         0.86733447]\n",
      " [0.63287738 1.         1.         1.         0.86733447]\n",
      " [0.63287738 1.         1.         1.         0.86733447]\n",
      " [0.63287738 1.         1.         1.         0.86733447]\n",
      " [0.63287738 1.         1.         1.         0.86733447]\n",
      " [0.63287738 1.         1.         1.         0.86733447]\n",
      " [0.63287738 1.         1.         1.         0.86733447]\n",
      " [0.63287738 1.         1.         1.         0.86733447]\n",
      " [0.63287738 1.         1.         1.         0.86733447]\n",
      " [0.63287738 1.         1.         1.         0.86733447]\n",
      " [0.63287738 1.         1.         1.         0.86733447]\n",
      " [0.63287738 1.         1.         1.         0.86733447]\n",
      " [0.63287738 1.         1.         1.         0.86733447]\n",
      " [0.63287738 1.         1.         1.         0.86733447]\n",
      " [0.63287738 1.         1.         1.         0.86733447]\n",
      " [0.63287738 1.         1.         1.         0.86733447]\n",
      " [0.63287738 1.         1.         1.         0.86733447]\n",
      " [0.63287738 1.         1.         1.         0.86733447]\n",
      " [0.63287738 1.         1.         1.         0.86733447]\n",
      " [0.63287738 1.         1.         1.         0.86733447]\n",
      " [0.63287738 1.         1.         1.         0.86733447]\n",
      " [0.63287738 1.         1.         1.         0.86733447]\n",
      " [0.63287738 1.         1.         1.         0.86733447]\n",
      " [0.63287738 1.         1.         1.         0.86733447]\n",
      " [0.63287738 1.         1.         1.         0.86733447]\n",
      " [0.63287738 1.         1.         1.         0.86733447]\n",
      " [0.63287738 1.         1.         1.         0.86733447]\n",
      " [0.63287738 1.         1.         1.         0.86733447]\n",
      " [0.63287738 1.         1.         1.         0.86733447]\n",
      " [0.63287738 1.         1.         1.         0.86733447]\n",
      " [0.63287738 1.         1.         1.         0.86733447]\n",
      " [0.63287738 1.         1.         1.         0.86733447]\n",
      " [0.63287738 1.         1.         1.         0.86733447]\n",
      " [0.63287738 1.         1.         1.         0.86733447]\n",
      " [0.63287738 1.         1.         1.         0.86733447]\n",
      " [0.63287738 1.         1.         1.         0.86733447]\n",
      " [0.63287738 1.         1.         1.         0.86733447]\n",
      " [0.63287738 1.         1.         1.         0.86733447]\n",
      " [0.63287738 1.         1.         1.         0.86733447]\n",
      " [0.63287738 1.         1.         1.         0.86733447]\n",
      " [0.63287738 1.         1.         1.         0.86733447]\n",
      " [0.63287738 1.         1.         1.         0.86733447]\n",
      " [0.63287738 1.         1.         1.         0.86733447]\n",
      " [0.63287738 1.         1.         1.         0.86733447]\n",
      " [0.63287738 1.         1.         1.         0.86733447]\n",
      " [0.63287738 1.         1.         1.         0.86733447]\n",
      " [0.63287738 1.         1.         1.         0.86733447]\n",
      " [0.63287738 1.         1.         1.         0.86733447]\n",
      " [0.63287738 1.         1.         1.         0.86733447]\n",
      " [0.63287738 1.         1.         1.         0.86733447]\n",
      " [0.63287738 1.         1.         1.         0.86733447]\n",
      " [0.63287738 1.         1.         1.         0.86733447]\n",
      " [0.63287738 1.         1.         1.         0.86733447]\n",
      " [0.63287738 1.         1.         1.         0.86733447]\n",
      " [0.63287738 1.         1.         1.         0.86733447]\n",
      " [0.63287738 1.         1.         1.         0.86733447]\n",
      " [0.63287738 1.         1.         1.         0.86733447]\n",
      " [0.63287738 1.         1.         1.         0.86733447]\n",
      " [0.63287738 1.         1.         1.         0.86733447]\n",
      " [0.63287738 1.         1.         1.         0.86733447]\n",
      " [0.63287738 1.         1.         1.         0.86733447]\n",
      " [0.63287738 1.         1.         1.         0.86733447]\n",
      " [0.63287738 1.         1.         1.         0.86733447]\n",
      " [0.63287738 1.         1.         1.         0.86733447]\n",
      " [0.63287738 1.         1.         1.         0.86733447]\n",
      " [0.63287738 1.         1.         1.         0.86733447]\n",
      " [0.63287738 1.         1.         1.         0.86733447]\n",
      " [0.63287738 1.         1.         1.         0.86733447]\n",
      " [0.63287738 1.         1.         1.         0.86733447]\n",
      " [0.63287738 1.         1.         1.         0.86733447]\n",
      " [0.63287738 1.         1.         1.         0.86733447]\n",
      " [0.63287738 1.         1.         1.         0.86733447]\n",
      " [0.63287738 1.         1.         1.         0.86733447]\n",
      " [0.63287738 1.         1.         1.         0.86733447]\n",
      " [0.63287738 1.         1.         1.         0.86733447]\n",
      " [0.63287738 1.         1.         1.         0.86733447]\n",
      " [0.63287738 1.         1.         1.         0.86733447]\n",
      " [0.63287738 1.         1.         1.         0.86733447]\n",
      " [0.63287738 1.         1.         1.         0.86733447]\n",
      " [0.63287738 1.         1.         1.         0.86733447]]\n"
     ]
    }
   ],
   "source": [
    "print(test_scores)"
   ]
  },
  {
   "cell_type": "code",
   "execution_count": 21,
   "metadata": {},
   "outputs": [
    {
     "name": "stdout",
     "output_type": "stream",
     "text": [
      "[0.90004237 0.90004237 0.90004237 0.90004237 0.90004237 0.90004237\n",
      " 0.90004237 0.90004237 0.90004237 0.90004237 0.90004237 0.90004237\n",
      " 0.90004237 0.90004237 0.90004237 0.90004237 0.90004237 0.90004237\n",
      " 0.90004237 0.90004237 0.90004237 0.90004237 0.90004237 0.90004237\n",
      " 0.90004237 0.90004237 0.90004237 0.90004237 0.90004237 0.90004237\n",
      " 0.90004237 0.90004237 0.90004237 0.90004237 0.90004237 0.90004237\n",
      " 0.90004237 0.90004237 0.90004237 0.90004237 0.90004237 0.90004237\n",
      " 0.90004237 0.90004237 0.90004237 0.90004237 0.90004237 0.90004237\n",
      " 0.90004237 0.90004237 0.90004237 0.90004237 0.90004237 0.90004237\n",
      " 0.90004237 0.90004237 0.90004237 0.90004237 0.90004237 0.90004237\n",
      " 0.90004237 0.90004237 0.90004237 0.90004237 0.90004237 0.90004237\n",
      " 0.90004237 0.90004237 0.90004237 0.90004237 0.90004237 0.90004237\n",
      " 0.90004237 0.90004237 0.90004237 0.90004237 0.90004237 0.90004237\n",
      " 0.90004237 0.90004237 0.90004237 0.90004237 0.90004237 0.90004237\n",
      " 0.90004237 0.90004237 0.90004237 0.90004237 0.90004237 0.90004237\n",
      " 0.90004237 0.90004237 0.90004237 0.90004237 0.90004237 0.90004237\n",
      " 0.90004237 0.90004237 0.90004237]\n"
     ]
    }
   ],
   "source": [
    "print(np.mean(test_scores, axis = 1))"
   ]
  },
  {
   "cell_type": "code",
   "execution_count": 22,
   "metadata": {},
   "outputs": [],
   "source": [
    "%matplotlib inline\n",
    "import matplotlib.pyplot as plt"
   ]
  },
  {
   "cell_type": "code",
   "execution_count": 23,
   "metadata": {},
   "outputs": [
    {
     "data": {
      "image/png": "[encoded data removed]",
      "text/plain": [
       "<Figure size 792x648 with 1 Axes>"
      ]
     },
     "metadata": {
      "needs_background": "light"
     },
     "output_type": "display_data"
    }
   ],
   "source": [
    "plt.figure(figsize = (11, 9))\n",
    "\n",
    "plt.plot(param_range, np.mean(train_scores, axis = 1))\n",
    "plt.plot(param_range, np.mean(test_scores, axis = 1))\n",
    "\n",
    "plt.title(\"How does the tree depth influence the accuracy?\", fontsize = 20)\n",
    "plt.xlabel(\"depth levels of model\", fontsize = 15)\n",
    "plt.ylabel(\"model accuracy\", fontsize = 15)\n",
    "\n",
    "# Adding a legend\n",
    "plt.legend([\"train\", \"test\"], loc = \"upper left\", fontsize = 12)\n",
    "\n",
    "plt.show()"
   ]
  },
  {
   "cell_type": "code",
   "execution_count": null,
   "metadata": {},
   "outputs": [],
   "source": []
  }
 ],
 "metadata": {
  "interpreter": {
   "hash": "2d0b0e4f0c721eb031ef3ca0d00b96dad97174fcc411fcc7866abfa8f70d2af7"
  },
  "kernelspec": {
   "display_name": "Python 3.9.4 64-bit",
   "name": "python3"
  },
  "language_info": {
   "codemirror_mode": {
    "name": "ipython",
    "version": 3
   },
   "file_extension": ".py",
   "mimetype": "text/x-python",
   "name": "python",
   "nbconvert_exporter": "python",
   "pygments_lexer": "ipython3",
   "version": "3.9.4"
  },
  "orig_nbformat": 4
 },
 "nbformat": 4,
 "nbformat_minor": 2
}
